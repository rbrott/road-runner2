{
 "cells": [
  {
   "cell_type": "code",
   "execution_count": null,
   "metadata": {},
   "outputs": [],
   "source": [
    "%use lets-plot"
   ]
  },
  {
   "cell_type": "code",
   "execution_count": null,
   "metadata": {},
   "outputs": [],
   "source": [
    "@file:DependsOn(\"com.github.rbrott:road-runner2:+\")"
   ]
  },
  {
   "cell_type": "code",
   "execution_count": null,
   "metadata": {},
   "outputs": [],
   "source": [
    "import com.acmerobotics.roadrunner2.*\n",
    "\n",
    "\n",
    "typealias PoseHistory = MutableList<Transform2<World, *, DoubleNum>>\n",
    "\n",
    "\n",
    "val path = TangentPath(\n",
    "    ArcApproxArcCurve2(\n",
    "        QuinticSpline2(\n",
    "            QuinticSpline1(0.0, 20.0, 0.0, 30.0, 30.0, 0.0, 4),\n",
    "            QuinticSpline1(0.0, 20.0, 0.0, 15.0, 10.0, 0.0, 4)\n",
    "        )\n",
    "    )\n",
    ")\n",
    "\n",
    "val maxVel = 1.0\n",
    "val profile = Profile(\n",
    "    listOf(\n",
    "        Profile.ConstVelSegment(\n",
    "            DualNum.constant(0.0, 4),\n",
    "            maxVel, path.length / maxVel\n",
    "        )\n",
    "    )\n",
    ")\n",
    "val trajectory = Trajectory(path, profile)\n",
    "\n",
    "tailrec fun <Robot> step(pose: Transform2<World, Robot, DualNum<Time>>, lastProject: Double,\n",
    "                 targets: PoseHistory, measured: PoseHistory): Pair<PoseHistory, PoseHistory> {\n",
    "    val s = trajectory.project<Robot>(Position2.bind(pose.translation), lastProject)\n",
    "\n",
    "    if (s.value() >= path.length - 0.25) {\n",
    "        return Pair(targets, measured)\n",
    "    }\n",
    "\n",
    "    val targetPose = trajectory.getByDisp<Robot>(s.value())\n",
    "\n",
    "    measured.add(pose.constant())\n",
    "    targets.add(targetPose.constant())\n",
    "\n",
    "    val error = targetPose.constant() - pose.constant()\n",
    "    val correction = Twist2<DualNum<Time>>(\n",
    "        DualNum(listOf(0.0, 10.0 * error.x.value)),\n",
    "        DualNum(listOf(0.0, 10.0 * error.y.value)),\n",
    "        DualNum(listOf(0.0, 0.01 * error.theta.value))\n",
    "    )\n",
    "\n",
    "    class CommandRobot\n",
    "    val command = targetPose.plus<CommandRobot>(correction)\n",
    "\n",
    "    val dt = 0.01\n",
    "    val nextPose = pose.plus<Robot>(\n",
    "        Twist2(\n",
    "            command.translation.x.drop(1) * dt,\n",
    "            command.translation.y.drop(1) * dt,\n",
    "            command.rotation.log().drop(1) * dt\n",
    "        )\n",
    "    )\n",
    "\n",
    "    return step(nextPose, s.value(), targets, measured)\n",
    "}\n",
    "\n",
    "class InitialTraj\n",
    "val initialPose = trajectory.get<InitialTraj>(0.0)\n",
    "\n",
    "class InitialRobot\n",
    "val perturbation =\n",
    "    Transform2.rotateThenTranslate<InitialTraj, InitialRobot, DualNum<Time>>(\n",
    "        Rotation2(DualNum.constant(cos(PI / 8.0), 10), DualNum.constant(sin(PI / 8.0), 10)),\n",
    "        Vector2(DualNum.constant(1.0, 10), DualNum.constant(-3.0, 10))\n",
    "    )\n",
    "val perturbedPose = initialPose * perturbation\n",
    "\n",
    "val (targets, measured) = step(perturbedPose, 0.0, mutableListOf(), mutableListOf())"
   ]
  },
  {
   "cell_type": "code",
   "execution_count": null,
   "metadata": {},
   "outputs": [],
   "source": [
    "val data = mapOf<String, List<*>>(\n",
    "    \"pose\" to targets.map { \"target\" } + measured.map { \"measured\" },\n",
    "    \"x\" to targets.map { it.translation.x.value } + measured.map { it.translation.x.value },\n",
    "    \"y\" to targets.map { it.translation.y.value } + measured.map { it.translation.y.value }\n",
    ")"
   ]
  },
  {
   "cell_type": "code",
   "execution_count": null,
   "metadata": {},
   "outputs": [],
   "source": [
    "letsPlot(data) { x = \"x\"; y = \"y\"; color = \"pose\" } + geomPoint(shape = 1)"
   ]
  }
 ],
 "metadata": {
  "kernelspec": {
   "display_name": "Kotlin",
   "language": "kotlin",
   "name": "kotlin"
  },
  "language_info": {
   "codemirror_mode": "text/x-kotlin",
   "file_extension": ".kt",
   "mimetype": "text/x-kotlin",
   "name": "kotlin",
   "nbconvert_exporter": "",
   "pygments_lexer": "kotlin",
   "version": "1.6.20-dev-6372"
  }
 },
 "nbformat": 4,
 "nbformat_minor": 4
}
